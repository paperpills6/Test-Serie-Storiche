{
 "cells": [
  {
   "cell_type": "markdown",
   "metadata": {},
   "source": [
    "# Average close-minus-open difference over time\n\n",
    "This notebook loads the historical price dataset, computes the monthly average difference between the closing and opening prices, and visualises the trend with Matplotlib."
   ]
  },
  {
   "cell_type": "code",
   "execution_count": null,
   "metadata": {},
   "outputs": [],
   "source": [
    "from pathlib import Path\n",
    "\n",
    "import pandas as pd\n",
    "import matplotlib.pyplot as plt"
   ]
  },
  {
   "cell_type": "code",
   "execution_count": null,
   "metadata": {},
   "outputs": [],
   "source": [
    "DATA_PATH = Path(\"HistoricalData_1760090934890.csv\")\n",
    "\n",
    "df = pd.read_csv(DATA_PATH)\n",
    "df[\"Date\"] = pd.to_datetime(df[\"Date\"])\n",
    "\n",
    "price_columns = [\"Close/Last\", \"Open\", \"High\", \"Low\"]\n",
    "for column in price_columns:\n",
    "    df[column] = (\n",
    "        df[column]\n",
    "        .str.replace('$', '', regex=False)\n",
    "        .str.replace(',', '', regex=False)\n",
    "        .astype(float)\n",
    "    )\n",
    "\n",
    "df = df.sort_values(\"Date\", ascending=True).reset_index(drop=True)\n",
    "df[\"close_open_diff\"] = df[\"Close/Last\"] - df[\"Open\"]\n",
    "df[[\"Date\", \"Close/Last\", \"Open\", \"close_open_diff\"]].head()"
   ]
  },
  {
   "cell_type": "code",
   "execution_count": null,
   "metadata": {},
   "outputs": [],
   "source": [
    "monthly_diff = (\n",
    "    df.set_index(\"Date\")\n",
    "    .resample(\"M\")[\"close_open_diff\"]\n",
    "    .mean()\n",
    "    .to_frame(name=\"average_close_minus_open\")\n",
    ")\n",
    "monthly_diff.head()"
   ]
  },
  {
   "cell_type": "code",
   "execution_count": null,
   "metadata": {},
   "outputs": [],
   "source": [
    "plt.figure(figsize=(12, 6))\n",
    "plt.plot(\n",
    "    monthly_diff.index,\n",
    "    monthly_diff[\"average_close_minus_open\"],\n",
    "    marker=\"o\",\n",
    "    linewidth=2,\n",
    "    color=\"tab:blue\",\n",
    ")\n",
    "plt.axhline(0, color=\"black\", linewidth=1, linestyle=\"--\")\n",
    "plt.title(\"Monthly Average Close-Open Price Difference\")\n",
    "plt.xlabel(\"Month\")\n",
    "plt.ylabel(\"Average close - open price (USD)\")\n",
    "plt.grid(True, linestyle=\":\", linewidth=0.5)\n",
    "plt.tight_layout()\n",
    "plt.show()"
   ]
  }
 ],
 "metadata": {
  "kernelspec": {
   "display_name": "Python 3",
   "language": "python",
   "name": "python3"
  },
  "language_info": {
   "codemirror_mode": {
    "name": "ipython",
    "version": 3
   },
   "file_extension": ".py",
   "mimetype": "text/x-python",
   "name": "python",
   "nbconvert_exporter": "python",
   "pygments_lexer": "ipython3",
   "version": "3.11"
  }
 },
 "nbformat": 4,
 "nbformat_minor": 5
}